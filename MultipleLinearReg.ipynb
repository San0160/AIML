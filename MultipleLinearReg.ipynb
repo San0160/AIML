{
 "cells": [
  {
   "cell_type": "code",
   "execution_count": 8,
   "id": "5a89c9a0",
   "metadata": {},
   "outputs": [],
   "source": [
    "# Wine Price Predection  featuring Multiple Linear Regression"
   ]
  },
  {
   "cell_type": "code",
   "execution_count": 75,
   "id": "0c696eb5",
   "metadata": {},
   "outputs": [],
   "source": [
    "import pandas as pd\n",
    "import matplotlib.pyplot as plt"
   ]
  },
  {
   "cell_type": "code",
   "execution_count": null,
   "id": "d7e92fbc",
   "metadata": {},
   "outputs": [],
   "source": [
    "# EDA"
   ]
  },
  {
   "cell_type": "code",
   "execution_count": 61,
   "id": "05cc3b8a",
   "metadata": {},
   "outputs": [],
   "source": [
    "wine = pd.read_csv(\"C:\\\\Users\\\\Sandeep\\\\OneDrive\\\\Desktop\\\\Data\\\\wine.csv\")"
   ]
  },
  {
   "cell_type": "code",
   "execution_count": 62,
   "id": "146022b0",
   "metadata": {},
   "outputs": [
    {
     "data": {
      "text/plain": [
       "(25, 7)"
      ]
     },
     "execution_count": 62,
     "metadata": {},
     "output_type": "execute_result"
    }
   ],
   "source": [
    "wine.shape"
   ]
  },
  {
   "cell_type": "code",
   "execution_count": 63,
   "id": "a4a08070",
   "metadata": {},
   "outputs": [
    {
     "data": {
      "text/html": [
       "<div>\n",
       "<style scoped>\n",
       "    .dataframe tbody tr th:only-of-type {\n",
       "        vertical-align: middle;\n",
       "    }\n",
       "\n",
       "    .dataframe tbody tr th {\n",
       "        vertical-align: top;\n",
       "    }\n",
       "\n",
       "    .dataframe thead th {\n",
       "        text-align: right;\n",
       "    }\n",
       "</style>\n",
       "<table border=\"1\" class=\"dataframe\">\n",
       "  <thead>\n",
       "    <tr style=\"text-align: right;\">\n",
       "      <th></th>\n",
       "      <th>Year</th>\n",
       "      <th>Price</th>\n",
       "      <th>WinterRain</th>\n",
       "      <th>AGST</th>\n",
       "      <th>HarvestRain</th>\n",
       "      <th>Age</th>\n",
       "      <th>FrancePop</th>\n",
       "    </tr>\n",
       "  </thead>\n",
       "  <tbody>\n",
       "    <tr>\n",
       "      <th>0</th>\n",
       "      <td>1952</td>\n",
       "      <td>7.4950</td>\n",
       "      <td>600</td>\n",
       "      <td>17.1167</td>\n",
       "      <td>160</td>\n",
       "      <td>31</td>\n",
       "      <td>43183.569</td>\n",
       "    </tr>\n",
       "    <tr>\n",
       "      <th>1</th>\n",
       "      <td>1953</td>\n",
       "      <td>8.0393</td>\n",
       "      <td>690</td>\n",
       "      <td>16.7333</td>\n",
       "      <td>80</td>\n",
       "      <td>30</td>\n",
       "      <td>43495.030</td>\n",
       "    </tr>\n",
       "    <tr>\n",
       "      <th>2</th>\n",
       "      <td>1955</td>\n",
       "      <td>7.6858</td>\n",
       "      <td>502</td>\n",
       "      <td>17.1500</td>\n",
       "      <td>130</td>\n",
       "      <td>28</td>\n",
       "      <td>44217.857</td>\n",
       "    </tr>\n",
       "    <tr>\n",
       "      <th>3</th>\n",
       "      <td>1957</td>\n",
       "      <td>6.9845</td>\n",
       "      <td>420</td>\n",
       "      <td>16.1333</td>\n",
       "      <td>110</td>\n",
       "      <td>26</td>\n",
       "      <td>45152.252</td>\n",
       "    </tr>\n",
       "    <tr>\n",
       "      <th>4</th>\n",
       "      <td>1958</td>\n",
       "      <td>6.7772</td>\n",
       "      <td>582</td>\n",
       "      <td>16.4167</td>\n",
       "      <td>187</td>\n",
       "      <td>25</td>\n",
       "      <td>45653.805</td>\n",
       "    </tr>\n",
       "  </tbody>\n",
       "</table>\n",
       "</div>"
      ],
      "text/plain": [
       "   Year   Price  WinterRain     AGST  HarvestRain  Age  FrancePop\n",
       "0  1952  7.4950         600  17.1167          160   31  43183.569\n",
       "1  1953  8.0393         690  16.7333           80   30  43495.030\n",
       "2  1955  7.6858         502  17.1500          130   28  44217.857\n",
       "3  1957  6.9845         420  16.1333          110   26  45152.252\n",
       "4  1958  6.7772         582  16.4167          187   25  45653.805"
      ]
     },
     "execution_count": 63,
     "metadata": {},
     "output_type": "execute_result"
    }
   ],
   "source": [
    "wine.head()"
   ]
  },
  {
   "cell_type": "code",
   "execution_count": 64,
   "id": "8d32635c",
   "metadata": {},
   "outputs": [
    {
     "data": {
      "text/plain": [
       "Year           0\n",
       "Price          0\n",
       "WinterRain     0\n",
       "AGST           0\n",
       "HarvestRain    0\n",
       "Age            0\n",
       "FrancePop      0\n",
       "dtype: int64"
      ]
     },
     "execution_count": 64,
     "metadata": {},
     "output_type": "execute_result"
    }
   ],
   "source": [
    "wine.isnull().sum()"
   ]
  },
  {
   "cell_type": "code",
   "execution_count": 65,
   "id": "0825cb89",
   "metadata": {},
   "outputs": [
    {
     "data": {
      "text/html": [
       "<div>\n",
       "<style scoped>\n",
       "    .dataframe tbody tr th:only-of-type {\n",
       "        vertical-align: middle;\n",
       "    }\n",
       "\n",
       "    .dataframe tbody tr th {\n",
       "        vertical-align: top;\n",
       "    }\n",
       "\n",
       "    .dataframe thead th {\n",
       "        text-align: right;\n",
       "    }\n",
       "</style>\n",
       "<table border=\"1\" class=\"dataframe\">\n",
       "  <thead>\n",
       "    <tr style=\"text-align: right;\">\n",
       "      <th></th>\n",
       "      <th>Year</th>\n",
       "      <th>Price</th>\n",
       "      <th>WinterRain</th>\n",
       "      <th>AGST</th>\n",
       "      <th>HarvestRain</th>\n",
       "      <th>Age</th>\n",
       "      <th>FrancePop</th>\n",
       "    </tr>\n",
       "  </thead>\n",
       "  <tbody>\n",
       "    <tr>\n",
       "      <th>Year</th>\n",
       "      <td>1.000000</td>\n",
       "      <td>-0.447768</td>\n",
       "      <td>0.016970</td>\n",
       "      <td>-0.246916</td>\n",
       "      <td>0.028009</td>\n",
       "      <td>-1.000000</td>\n",
       "      <td>0.994485</td>\n",
       "    </tr>\n",
       "    <tr>\n",
       "      <th>Price</th>\n",
       "      <td>-0.447768</td>\n",
       "      <td>1.000000</td>\n",
       "      <td>0.136651</td>\n",
       "      <td>0.659563</td>\n",
       "      <td>-0.563322</td>\n",
       "      <td>0.447768</td>\n",
       "      <td>-0.466862</td>\n",
       "    </tr>\n",
       "    <tr>\n",
       "      <th>WinterRain</th>\n",
       "      <td>0.016970</td>\n",
       "      <td>0.136651</td>\n",
       "      <td>1.000000</td>\n",
       "      <td>-0.321091</td>\n",
       "      <td>-0.275441</td>\n",
       "      <td>-0.016970</td>\n",
       "      <td>-0.001622</td>\n",
       "    </tr>\n",
       "    <tr>\n",
       "      <th>AGST</th>\n",
       "      <td>-0.246916</td>\n",
       "      <td>0.659563</td>\n",
       "      <td>-0.321091</td>\n",
       "      <td>1.000000</td>\n",
       "      <td>-0.064496</td>\n",
       "      <td>0.246916</td>\n",
       "      <td>-0.259162</td>\n",
       "    </tr>\n",
       "    <tr>\n",
       "      <th>HarvestRain</th>\n",
       "      <td>0.028009</td>\n",
       "      <td>-0.563322</td>\n",
       "      <td>-0.275441</td>\n",
       "      <td>-0.064496</td>\n",
       "      <td>1.000000</td>\n",
       "      <td>-0.028009</td>\n",
       "      <td>0.041264</td>\n",
       "    </tr>\n",
       "    <tr>\n",
       "      <th>Age</th>\n",
       "      <td>-1.000000</td>\n",
       "      <td>0.447768</td>\n",
       "      <td>-0.016970</td>\n",
       "      <td>0.246916</td>\n",
       "      <td>-0.028009</td>\n",
       "      <td>1.000000</td>\n",
       "      <td>-0.994485</td>\n",
       "    </tr>\n",
       "    <tr>\n",
       "      <th>FrancePop</th>\n",
       "      <td>0.994485</td>\n",
       "      <td>-0.466862</td>\n",
       "      <td>-0.001622</td>\n",
       "      <td>-0.259162</td>\n",
       "      <td>0.041264</td>\n",
       "      <td>-0.994485</td>\n",
       "      <td>1.000000</td>\n",
       "    </tr>\n",
       "  </tbody>\n",
       "</table>\n",
       "</div>"
      ],
      "text/plain": [
       "                 Year     Price  WinterRain      AGST  HarvestRain       Age  \\\n",
       "Year         1.000000 -0.447768    0.016970 -0.246916     0.028009 -1.000000   \n",
       "Price       -0.447768  1.000000    0.136651  0.659563    -0.563322  0.447768   \n",
       "WinterRain   0.016970  0.136651    1.000000 -0.321091    -0.275441 -0.016970   \n",
       "AGST        -0.246916  0.659563   -0.321091  1.000000    -0.064496  0.246916   \n",
       "HarvestRain  0.028009 -0.563322   -0.275441 -0.064496     1.000000 -0.028009   \n",
       "Age         -1.000000  0.447768   -0.016970  0.246916    -0.028009  1.000000   \n",
       "FrancePop    0.994485 -0.466862   -0.001622 -0.259162     0.041264 -0.994485   \n",
       "\n",
       "             FrancePop  \n",
       "Year          0.994485  \n",
       "Price        -0.466862  \n",
       "WinterRain   -0.001622  \n",
       "AGST         -0.259162  \n",
       "HarvestRain   0.041264  \n",
       "Age          -0.994485  \n",
       "FrancePop     1.000000  "
      ]
     },
     "execution_count": 65,
     "metadata": {},
     "output_type": "execute_result"
    }
   ],
   "source": [
    "wine.corr()"
   ]
  },
  {
   "cell_type": "code",
   "execution_count": 66,
   "id": "d4c47501",
   "metadata": {},
   "outputs": [],
   "source": [
    "X = wine[['WinterRain', 'AGST']]\n",
    "y = wine[['Price']]"
   ]
  },
  {
   "cell_type": "code",
   "execution_count": 67,
   "id": "3a3a491b",
   "metadata": {},
   "outputs": [],
   "source": [
    "from sklearn.model_selection import train_test_split"
   ]
  },
  {
   "cell_type": "code",
   "execution_count": 70,
   "id": "e52cb138",
   "metadata": {},
   "outputs": [],
   "source": [
    "X_train, X_test, y_train, y_test = train_test_split(X,y, train_size = 0.7, random_state = 123)"
   ]
  },
  {
   "cell_type": "code",
   "execution_count": 77,
   "id": "1e77fe09",
   "metadata": {},
   "outputs": [
    {
     "name": "stdout",
     "output_type": "stream",
     "text": [
      "Shapes\n",
      "X_train  (17, 2)\n",
      "y_train  (17, 1)\n",
      " \n",
      "X_test  (8, 2)\n",
      "y_test  (8, 1)\n"
     ]
    }
   ],
   "source": [
    "print(\"Shapes\")\n",
    "print(\"X_train \",X_train.shape)\n",
    "print(\"y_train \",y_train.shape)\n",
    "print(\" \")\n",
    "print(\"X_test \", X_test.shape)\n",
    "print(\"y_test \",y_test.shape)"
   ]
  },
  {
   "cell_type": "code",
   "execution_count": 78,
   "id": "92701823",
   "metadata": {},
   "outputs": [],
   "source": [
    "# Fitting the Linear regression model"
   ]
  },
  {
   "cell_type": "code",
   "execution_count": 72,
   "id": "faede105",
   "metadata": {},
   "outputs": [],
   "source": [
    "from sklearn.linear_model import LinearRegression "
   ]
  },
  {
   "cell_type": "code",
   "execution_count": 73,
   "id": "74b24fe9",
   "metadata": {},
   "outputs": [],
   "source": [
    "lm = LinearRegression()"
   ]
  },
  {
   "cell_type": "code",
   "execution_count": 74,
   "id": "12790a7b",
   "metadata": {},
   "outputs": [
    {
     "data": {
      "text/html": [
       "<style>#sk-container-id-1 {color: black;}#sk-container-id-1 pre{padding: 0;}#sk-container-id-1 div.sk-toggleable {background-color: white;}#sk-container-id-1 label.sk-toggleable__label {cursor: pointer;display: block;width: 100%;margin-bottom: 0;padding: 0.3em;box-sizing: border-box;text-align: center;}#sk-container-id-1 label.sk-toggleable__label-arrow:before {content: \"▸\";float: left;margin-right: 0.25em;color: #696969;}#sk-container-id-1 label.sk-toggleable__label-arrow:hover:before {color: black;}#sk-container-id-1 div.sk-estimator:hover label.sk-toggleable__label-arrow:before {color: black;}#sk-container-id-1 div.sk-toggleable__content {max-height: 0;max-width: 0;overflow: hidden;text-align: left;background-color: #f0f8ff;}#sk-container-id-1 div.sk-toggleable__content pre {margin: 0.2em;color: black;border-radius: 0.25em;background-color: #f0f8ff;}#sk-container-id-1 input.sk-toggleable__control:checked~div.sk-toggleable__content {max-height: 200px;max-width: 100%;overflow: auto;}#sk-container-id-1 input.sk-toggleable__control:checked~label.sk-toggleable__label-arrow:before {content: \"▾\";}#sk-container-id-1 div.sk-estimator input.sk-toggleable__control:checked~label.sk-toggleable__label {background-color: #d4ebff;}#sk-container-id-1 div.sk-label input.sk-toggleable__control:checked~label.sk-toggleable__label {background-color: #d4ebff;}#sk-container-id-1 input.sk-hidden--visually {border: 0;clip: rect(1px 1px 1px 1px);clip: rect(1px, 1px, 1px, 1px);height: 1px;margin: -1px;overflow: hidden;padding: 0;position: absolute;width: 1px;}#sk-container-id-1 div.sk-estimator {font-family: monospace;background-color: #f0f8ff;border: 1px dotted black;border-radius: 0.25em;box-sizing: border-box;margin-bottom: 0.5em;}#sk-container-id-1 div.sk-estimator:hover {background-color: #d4ebff;}#sk-container-id-1 div.sk-parallel-item::after {content: \"\";width: 100%;border-bottom: 1px solid gray;flex-grow: 1;}#sk-container-id-1 div.sk-label:hover label.sk-toggleable__label {background-color: #d4ebff;}#sk-container-id-1 div.sk-serial::before {content: \"\";position: absolute;border-left: 1px solid gray;box-sizing: border-box;top: 0;bottom: 0;left: 50%;z-index: 0;}#sk-container-id-1 div.sk-serial {display: flex;flex-direction: column;align-items: center;background-color: white;padding-right: 0.2em;padding-left: 0.2em;position: relative;}#sk-container-id-1 div.sk-item {position: relative;z-index: 1;}#sk-container-id-1 div.sk-parallel {display: flex;align-items: stretch;justify-content: center;background-color: white;position: relative;}#sk-container-id-1 div.sk-item::before, #sk-container-id-1 div.sk-parallel-item::before {content: \"\";position: absolute;border-left: 1px solid gray;box-sizing: border-box;top: 0;bottom: 0;left: 50%;z-index: -1;}#sk-container-id-1 div.sk-parallel-item {display: flex;flex-direction: column;z-index: 1;position: relative;background-color: white;}#sk-container-id-1 div.sk-parallel-item:first-child::after {align-self: flex-end;width: 50%;}#sk-container-id-1 div.sk-parallel-item:last-child::after {align-self: flex-start;width: 50%;}#sk-container-id-1 div.sk-parallel-item:only-child::after {width: 0;}#sk-container-id-1 div.sk-dashed-wrapped {border: 1px dashed gray;margin: 0 0.4em 0.5em 0.4em;box-sizing: border-box;padding-bottom: 0.4em;background-color: white;}#sk-container-id-1 div.sk-label label {font-family: monospace;font-weight: bold;display: inline-block;line-height: 1.2em;}#sk-container-id-1 div.sk-label-container {text-align: center;}#sk-container-id-1 div.sk-container {/* jupyter's `normalize.less` sets `[hidden] { display: none; }` but bootstrap.min.css set `[hidden] { display: none !important; }` so we also need the `!important` here to be able to override the default hidden behavior on the sphinx rendered scikit-learn.org. See: https://github.com/scikit-learn/scikit-learn/issues/21755 */display: inline-block !important;position: relative;}#sk-container-id-1 div.sk-text-repr-fallback {display: none;}</style><div id=\"sk-container-id-1\" class=\"sk-top-container\"><div class=\"sk-text-repr-fallback\"><pre>LinearRegression()</pre><b>In a Jupyter environment, please rerun this cell to show the HTML representation or trust the notebook. <br />On GitHub, the HTML representation is unable to render, please try loading this page with nbviewer.org.</b></div><div class=\"sk-container\" hidden><div class=\"sk-item\"><div class=\"sk-estimator sk-toggleable\"><input class=\"sk-toggleable__control sk-hidden--visually\" id=\"sk-estimator-id-1\" type=\"checkbox\" checked><label for=\"sk-estimator-id-1\" class=\"sk-toggleable__label sk-toggleable__label-arrow\">LinearRegression</label><div class=\"sk-toggleable__content\"><pre>LinearRegression()</pre></div></div></div></div></div>"
      ],
      "text/plain": [
       "LinearRegression()"
      ]
     },
     "execution_count": 74,
     "metadata": {},
     "output_type": "execute_result"
    }
   ],
   "source": [
    "lm.fit(X_train,y_train)"
   ]
  },
  {
   "cell_type": "code",
   "execution_count": 82,
   "id": "611370a9",
   "metadata": {},
   "outputs": [
    {
     "name": "stdout",
     "output_type": "stream",
     "text": [
      "[[0.00168119 0.84650187]]\n"
     ]
    }
   ],
   "source": [
    "print(lm.coef_)"
   ]
  },
  {
   "cell_type": "code",
   "execution_count": 84,
   "id": "08f8017c",
   "metadata": {},
   "outputs": [
    {
     "name": "stdout",
     "output_type": "stream",
     "text": [
      "[-7.94852026]\n"
     ]
    }
   ],
   "source": [
    "print(lm.intercept_)"
   ]
  },
  {
   "cell_type": "code",
   "execution_count": 86,
   "id": "f345eaad",
   "metadata": {},
   "outputs": [],
   "source": [
    "# here the \"features\" (x) (IDV) are 2 so the equation will be :\n",
    "# y = x1b1 + x2b2 + c     where b1 and b2 = coefficients and c = intercept"
   ]
  },
  {
   "cell_type": "code",
   "execution_count": 99,
   "id": "cbd70b10",
   "metadata": {},
   "outputs": [],
   "source": [
    "pred_train = lm.predict(X_train)"
   ]
  },
  {
   "cell_type": "code",
   "execution_count": 100,
   "id": "e3e7aded",
   "metadata": {},
   "outputs": [
    {
     "data": {
      "text/plain": [
       "array([[6.92669919],\n",
       "       [6.41444788],\n",
       "       [6.72309334],\n",
       "       [7.42384318],\n",
       "       [7.20557223],\n",
       "       [6.3778588 ],\n",
       "       [6.79033553],\n",
       "       [6.8144629 ],\n",
       "       [7.5495119 ],\n",
       "       [7.37627013],\n",
       "       [7.34361169],\n",
       "       [7.13060039],\n",
       "       [7.17085797],\n",
       "       [7.23099446],\n",
       "       [6.62302879],\n",
       "       [7.41294386],\n",
       "       [6.99336774]])"
      ]
     },
     "execution_count": 100,
     "metadata": {},
     "output_type": "execute_result"
    }
   ],
   "source": [
    "pred_train"
   ]
  },
  {
   "cell_type": "code",
   "execution_count": 101,
   "id": "ae65050f",
   "metadata": {},
   "outputs": [
    {
     "data": {
      "text/html": [
       "<div>\n",
       "<style scoped>\n",
       "    .dataframe tbody tr th:only-of-type {\n",
       "        vertical-align: middle;\n",
       "    }\n",
       "\n",
       "    .dataframe tbody tr th {\n",
       "        vertical-align: top;\n",
       "    }\n",
       "\n",
       "    .dataframe thead th {\n",
       "        text-align: right;\n",
       "    }\n",
       "</style>\n",
       "<table border=\"1\" class=\"dataframe\">\n",
       "  <thead>\n",
       "    <tr style=\"text-align: right;\">\n",
       "      <th></th>\n",
       "      <th>Price</th>\n",
       "    </tr>\n",
       "  </thead>\n",
       "  <tbody>\n",
       "    <tr>\n",
       "      <th>4</th>\n",
       "      <td>6.7772</td>\n",
       "    </tr>\n",
       "    <tr>\n",
       "      <th>3</th>\n",
       "      <td>6.9845</td>\n",
       "    </tr>\n",
       "    <tr>\n",
       "      <th>24</th>\n",
       "      <td>7.1860</td>\n",
       "    </tr>\n",
       "    <tr>\n",
       "      <th>12</th>\n",
       "      <td>7.7443</td>\n",
       "    </tr>\n",
       "    <tr>\n",
       "      <th>16</th>\n",
       "      <td>7.5883</td>\n",
       "    </tr>\n",
       "    <tr>\n",
       "      <th>9</th>\n",
       "      <td>6.7127</td>\n",
       "    </tr>\n",
       "    <tr>\n",
       "      <th>14</th>\n",
       "      <td>6.2435</td>\n",
       "    </tr>\n",
       "    <tr>\n",
       "      <th>20</th>\n",
       "      <td>6.2941</td>\n",
       "    </tr>\n",
       "    <tr>\n",
       "      <th>0</th>\n",
       "      <td>7.4950</td>\n",
       "    </tr>\n",
       "    <tr>\n",
       "      <th>1</th>\n",
       "      <td>8.0393</td>\n",
       "    </tr>\n",
       "    <tr>\n",
       "      <th>10</th>\n",
       "      <td>7.3094</td>\n",
       "    </tr>\n",
       "    <tr>\n",
       "      <th>19</th>\n",
       "      <td>6.6367</td>\n",
       "    </tr>\n",
       "    <tr>\n",
       "      <th>17</th>\n",
       "      <td>7.1934</td>\n",
       "    </tr>\n",
       "    <tr>\n",
       "      <th>6</th>\n",
       "      <td>6.5188</td>\n",
       "    </tr>\n",
       "    <tr>\n",
       "      <th>23</th>\n",
       "      <td>6.2587</td>\n",
       "    </tr>\n",
       "    <tr>\n",
       "      <th>2</th>\n",
       "      <td>7.6858</td>\n",
       "    </tr>\n",
       "    <tr>\n",
       "      <th>13</th>\n",
       "      <td>6.8398</td>\n",
       "    </tr>\n",
       "  </tbody>\n",
       "</table>\n",
       "</div>"
      ],
      "text/plain": [
       "     Price\n",
       "4   6.7772\n",
       "3   6.9845\n",
       "24  7.1860\n",
       "12  7.7443\n",
       "16  7.5883\n",
       "9   6.7127\n",
       "14  6.2435\n",
       "20  6.2941\n",
       "0   7.4950\n",
       "1   8.0393\n",
       "10  7.3094\n",
       "19  6.6367\n",
       "17  7.1934\n",
       "6   6.5188\n",
       "23  6.2587\n",
       "2   7.6858\n",
       "13  6.8398"
      ]
     },
     "execution_count": 101,
     "metadata": {},
     "output_type": "execute_result"
    }
   ],
   "source": [
    "y_train"
   ]
  },
  {
   "cell_type": "code",
   "execution_count": 107,
   "id": "e7f220f2",
   "metadata": {},
   "outputs": [
    {
     "name": "stdout",
     "output_type": "stream",
     "text": [
      "       Price\n",
      "4  -0.149499\n",
      "3   0.570052\n",
      "24  0.462907\n",
      "12  0.320457\n",
      "16  0.382728\n",
      "9   0.334841\n",
      "14 -0.546836\n",
      "20 -0.520363\n",
      "0  -0.054512\n",
      "1   0.663030\n",
      "10 -0.034212\n",
      "19 -0.493900\n",
      "17  0.022542\n",
      "6  -0.712194\n",
      "23 -0.364329\n",
      "2   0.272856\n",
      "13 -0.153568\n"
     ]
    }
   ],
   "source": [
    "error_train = y_train - pred_train\n",
    "print(error_train)"
   ]
  },
  {
   "cell_type": "code",
   "execution_count": 103,
   "id": "9b7adb8d",
   "metadata": {},
   "outputs": [],
   "source": [
    "# The same can be done with test data"
   ]
  },
  {
   "cell_type": "code",
   "execution_count": 106,
   "id": "22219e29",
   "metadata": {},
   "outputs": [
    {
     "name": "stdout",
     "output_type": "stream",
     "text": [
      "[[7.66650271]\n",
      " [7.36132674]\n",
      " [7.69497489]\n",
      " [5.6359887 ]\n",
      " [7.02776956]\n",
      " [7.0212492 ]\n",
      " [8.11953776]\n",
      " [6.07149601]]\n"
     ]
    }
   ],
   "source": [
    "pred_test = lm.predict(X_test)\n",
    "print(pred_test)"
   ]
  },
  {
   "cell_type": "code",
   "execution_count": 108,
   "id": "a649ccef",
   "metadata": {},
   "outputs": [
    {
     "name": "stdout",
     "output_type": "stream",
     "text": [
      "       Price\n",
      "5   0.409197\n",
      "21 -0.069327\n",
      "22 -0.573875\n",
      "18  0.568911\n",
      "15 -0.681870\n",
      "8   0.366751\n",
      "7   0.374162\n",
      "11  0.180304\n"
     ]
    }
   ],
   "source": [
    "error_test = y_test - pred_test\n",
    "print(error_test)"
   ]
  },
  {
   "cell_type": "code",
   "execution_count": 110,
   "id": "4d6555ba",
   "metadata": {},
   "outputs": [],
   "source": [
    "# Evaulation"
   ]
  },
  {
   "cell_type": "code",
   "execution_count": 172,
   "id": "28a19d85",
   "metadata": {},
   "outputs": [],
   "source": [
    "from sklearn.metrics import  mean_squared_error, r2_score, mean_absolute_error, mean_absolute_percentage_error"
   ]
  },
  {
   "cell_type": "code",
   "execution_count": 175,
   "id": "9a50a32a",
   "metadata": {},
   "outputs": [
    {
     "name": "stdout",
     "output_type": "stream",
     "text": [
      "Evaulation of train data\n",
      "mean= 0.172\n",
      "RMSE=  0.414\n",
      "Mean absolute error= 0.3564\n",
      "Mean Absolute Percentage Error= 0.0516\n",
      "R_squared= 0.415\n"
     ]
    }
   ],
   "source": [
    "print(\"Evaulation of train data\")\n",
    "\n",
    "Mean_error = mean_squared_error(pred_train,y_train)\n",
    "print( \"mean=\" , round(Mean_error,3))\n",
    "\n",
    "import math\n",
    "RMSE = math.sqrt(Mean_error)\n",
    "print( \"RMSE= \", round(RMSE,3))\n",
    "\n",
    "MAE = mean_absolute_error(y_train,pred_train)\n",
    "print(\"Mean absolute error=\", round(MAE,4))\n",
    "\n",
    "MAPE = mean_absolute_percentage_error(y_train,pred_train)\n",
    "print(\"Mean Absolute Percentage Error=\",round(MAPE,4))\n",
    "\n",
    "R_square_train = r2_score(y_train,pred_train)\n",
    "print( \"R_squared=\" , round(R_square_train,3))"
   ]
  },
  {
   "cell_type": "code",
   "execution_count": 127,
   "id": "6f0bef03",
   "metadata": {},
   "outputs": [],
   "source": [
    "# This is an example of how to build a model\n",
    "# now we need to improve the model by using other features like 'harvest rain and france pop'\n",
    "# Sign of data improvement is Decrease in 'root mean square' and increase in 'r square'\n",
    "# Here I tried including harvest rain feature along with AGST and winter rain, now i have 3 fratures lets see the results"
   ]
  },
  {
   "cell_type": "code",
   "execution_count": 149,
   "id": "c1f39e47",
   "metadata": {},
   "outputs": [],
   "source": [
    "X1 = wine[['WinterRain', 'AGST','HarvestRain']]\n",
    "y1 = wine[['Price']]"
   ]
  },
  {
   "cell_type": "code",
   "execution_count": 150,
   "id": "d528834c",
   "metadata": {},
   "outputs": [],
   "source": [
    "X1_train, X1_test, y1_train, y1_test = train_test_split(X1,y1, train_size = 0.7, random_state = 123)"
   ]
  },
  {
   "cell_type": "code",
   "execution_count": 161,
   "id": "4f82fa30",
   "metadata": {},
   "outputs": [
    {
     "name": "stdout",
     "output_type": "stream",
     "text": [
      "Shapes\n",
      "X1_train  (17, 3)\n",
      "y1_train  (17, 1)\n",
      " \n",
      "X1_test  (8, 3)\n",
      "y1_test  (8, 1)\n"
     ]
    }
   ],
   "source": [
    "print(\"Shapes\")\n",
    "print(\"X1_train \",X1_train.shape)\n",
    "print(\"y1_train \",y1_train.shape)\n",
    "print(\" \")\n",
    "print(\"X1_test \", X1_test.shape)\n",
    "print(\"y1_test \",y1_test.shape)"
   ]
  },
  {
   "cell_type": "code",
   "execution_count": 162,
   "id": "7a9bdacf",
   "metadata": {},
   "outputs": [],
   "source": [
    "lm1 = LinearRegression()"
   ]
  },
  {
   "cell_type": "code",
   "execution_count": 163,
   "id": "09b46c31",
   "metadata": {},
   "outputs": [
    {
     "data": {
      "text/html": [
       "<style>#sk-container-id-12 {color: black;}#sk-container-id-12 pre{padding: 0;}#sk-container-id-12 div.sk-toggleable {background-color: white;}#sk-container-id-12 label.sk-toggleable__label {cursor: pointer;display: block;width: 100%;margin-bottom: 0;padding: 0.3em;box-sizing: border-box;text-align: center;}#sk-container-id-12 label.sk-toggleable__label-arrow:before {content: \"▸\";float: left;margin-right: 0.25em;color: #696969;}#sk-container-id-12 label.sk-toggleable__label-arrow:hover:before {color: black;}#sk-container-id-12 div.sk-estimator:hover label.sk-toggleable__label-arrow:before {color: black;}#sk-container-id-12 div.sk-toggleable__content {max-height: 0;max-width: 0;overflow: hidden;text-align: left;background-color: #f0f8ff;}#sk-container-id-12 div.sk-toggleable__content pre {margin: 0.2em;color: black;border-radius: 0.25em;background-color: #f0f8ff;}#sk-container-id-12 input.sk-toggleable__control:checked~div.sk-toggleable__content {max-height: 200px;max-width: 100%;overflow: auto;}#sk-container-id-12 input.sk-toggleable__control:checked~label.sk-toggleable__label-arrow:before {content: \"▾\";}#sk-container-id-12 div.sk-estimator input.sk-toggleable__control:checked~label.sk-toggleable__label {background-color: #d4ebff;}#sk-container-id-12 div.sk-label input.sk-toggleable__control:checked~label.sk-toggleable__label {background-color: #d4ebff;}#sk-container-id-12 input.sk-hidden--visually {border: 0;clip: rect(1px 1px 1px 1px);clip: rect(1px, 1px, 1px, 1px);height: 1px;margin: -1px;overflow: hidden;padding: 0;position: absolute;width: 1px;}#sk-container-id-12 div.sk-estimator {font-family: monospace;background-color: #f0f8ff;border: 1px dotted black;border-radius: 0.25em;box-sizing: border-box;margin-bottom: 0.5em;}#sk-container-id-12 div.sk-estimator:hover {background-color: #d4ebff;}#sk-container-id-12 div.sk-parallel-item::after {content: \"\";width: 100%;border-bottom: 1px solid gray;flex-grow: 1;}#sk-container-id-12 div.sk-label:hover label.sk-toggleable__label {background-color: #d4ebff;}#sk-container-id-12 div.sk-serial::before {content: \"\";position: absolute;border-left: 1px solid gray;box-sizing: border-box;top: 0;bottom: 0;left: 50%;z-index: 0;}#sk-container-id-12 div.sk-serial {display: flex;flex-direction: column;align-items: center;background-color: white;padding-right: 0.2em;padding-left: 0.2em;position: relative;}#sk-container-id-12 div.sk-item {position: relative;z-index: 1;}#sk-container-id-12 div.sk-parallel {display: flex;align-items: stretch;justify-content: center;background-color: white;position: relative;}#sk-container-id-12 div.sk-item::before, #sk-container-id-12 div.sk-parallel-item::before {content: \"\";position: absolute;border-left: 1px solid gray;box-sizing: border-box;top: 0;bottom: 0;left: 50%;z-index: -1;}#sk-container-id-12 div.sk-parallel-item {display: flex;flex-direction: column;z-index: 1;position: relative;background-color: white;}#sk-container-id-12 div.sk-parallel-item:first-child::after {align-self: flex-end;width: 50%;}#sk-container-id-12 div.sk-parallel-item:last-child::after {align-self: flex-start;width: 50%;}#sk-container-id-12 div.sk-parallel-item:only-child::after {width: 0;}#sk-container-id-12 div.sk-dashed-wrapped {border: 1px dashed gray;margin: 0 0.4em 0.5em 0.4em;box-sizing: border-box;padding-bottom: 0.4em;background-color: white;}#sk-container-id-12 div.sk-label label {font-family: monospace;font-weight: bold;display: inline-block;line-height: 1.2em;}#sk-container-id-12 div.sk-label-container {text-align: center;}#sk-container-id-12 div.sk-container {/* jupyter's `normalize.less` sets `[hidden] { display: none; }` but bootstrap.min.css set `[hidden] { display: none !important; }` so we also need the `!important` here to be able to override the default hidden behavior on the sphinx rendered scikit-learn.org. See: https://github.com/scikit-learn/scikit-learn/issues/21755 */display: inline-block !important;position: relative;}#sk-container-id-12 div.sk-text-repr-fallback {display: none;}</style><div id=\"sk-container-id-12\" class=\"sk-top-container\"><div class=\"sk-text-repr-fallback\"><pre>LinearRegression()</pre><b>In a Jupyter environment, please rerun this cell to show the HTML representation or trust the notebook. <br />On GitHub, the HTML representation is unable to render, please try loading this page with nbviewer.org.</b></div><div class=\"sk-container\" hidden><div class=\"sk-item\"><div class=\"sk-estimator sk-toggleable\"><input class=\"sk-toggleable__control sk-hidden--visually\" id=\"sk-estimator-id-12\" type=\"checkbox\" checked><label for=\"sk-estimator-id-12\" class=\"sk-toggleable__label sk-toggleable__label-arrow\">LinearRegression</label><div class=\"sk-toggleable__content\"><pre>LinearRegression()</pre></div></div></div></div></div>"
      ],
      "text/plain": [
       "LinearRegression()"
      ]
     },
     "execution_count": 163,
     "metadata": {},
     "output_type": "execute_result"
    }
   ],
   "source": [
    "lm1.fit(X1_train,y1_train)"
   ]
  },
  {
   "cell_type": "code",
   "execution_count": 166,
   "id": "0ce273df",
   "metadata": {},
   "outputs": [],
   "source": [
    "pred1_train = lm1.predict(X1_train)"
   ]
  },
  {
   "cell_type": "code",
   "execution_count": 176,
   "id": "88f9ad42",
   "metadata": {},
   "outputs": [
    {
     "name": "stdout",
     "output_type": "stream",
     "text": [
      "Evaulation of train data\n",
      "mean= 0.0898\n",
      "RMSE=  0.2997\n",
      "Mean absolute error= 0.3564\n",
      "Mean Absolute Percentage Error= 0.0516\n",
      "R_squared= 0.694\n"
     ]
    }
   ],
   "source": [
    "print(\"Evaulation of train data\")\n",
    "\n",
    "Mean1_error = mean_squared_error(pred1_train,y1_train)\n",
    "print( \"mean=\" , round(Mean1_error,4))\n",
    "\n",
    "import math\n",
    "RMSE1 = math.sqrt(Mean1_error)\n",
    "print( \"RMSE= \", round(RMSE1,4))\n",
    "\n",
    "MAE1 = mean_absolute_error(y1_train,pred1_train)\n",
    "print(\"Mean absolute error=\", round(MAE,4))\n",
    "\n",
    "MAPE1 = mean_absolute_percentage_error(y1_train,pred1_train)\n",
    "print(\"Mean Absolute Percentage Error=\",round(MAPE,4))\n",
    "\n",
    "R_square_train1 = r2_score(y1_train,pred1_train)\n",
    "print( \"R_squared=\" , round(R_square_train1,4))"
   ]
  },
  {
   "cell_type": "code",
   "execution_count": 178,
   "id": "7453303e",
   "metadata": {},
   "outputs": [],
   "source": [
    "# Here the RMSE dropped and R2 increased which implies that the data module is better than the previous one\n",
    "# All the evaulation will be stored in an Excel sheet and data (mainly MAPE,RMSE and R2) will be compared\n",
    "# Points we look for:\n",
    "# R2 value High\n",
    "# MAPE value Low\n",
    "# Both with lowest amount of features\n",
    "# Difference between Train error and Test error should be Low\n",
    "# More info in written notes + spreadsheet"
   ]
  }
 ],
 "metadata": {
  "kernelspec": {
   "display_name": "Python 3 (ipykernel)",
   "language": "python",
   "name": "python3"
  },
  "language_info": {
   "codemirror_mode": {
    "name": "ipython",
    "version": 3
   },
   "file_extension": ".py",
   "mimetype": "text/x-python",
   "name": "python",
   "nbconvert_exporter": "python",
   "pygments_lexer": "ipython3",
   "version": "3.11.3"
  }
 },
 "nbformat": 4,
 "nbformat_minor": 5
}
